{
 "cells": [
  {
   "cell_type": "markdown",
   "id": "5ea30845",
   "metadata": {},
   "source": [
    "# **Methods of Computer Simulation - Project Report**\n",
    "\n",
    "### *Candidate Number:*\n",
    "\n",
    "---\n",
    "\n",
    "\n"
   ]
  },
  {
   "cell_type": "markdown",
   "id": "dd5af689",
   "metadata": {},
   "source": []
  },
  {
   "cell_type": "markdown",
   "id": "4fdccd4e",
   "metadata": {},
   "source": []
  }
 ],
 "metadata": {
  "language_info": {
   "name": "python"
  }
 },
 "nbformat": 4,
 "nbformat_minor": 5
}
