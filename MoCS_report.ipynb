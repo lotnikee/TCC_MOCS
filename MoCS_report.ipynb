{
 "cells": [
  {
   "cell_type": "markdown",
   "id": "30435335",
   "metadata": {},
   "source": [
    "# **Methods of Computer Simulation - Project Report**\n",
    "\n",
    "### *April 2025*\n",
    "\n",
    "#### *Candidate Number: 1090111*"
   ]
  },
  {
   "cell_type": "markdown",
   "id": "33b3a196",
   "metadata": {},
   "source": []
  },
  {
   "cell_type": "markdown",
   "id": "dd5af689",
   "metadata": {},
   "source": [
    "### *Question 1:*\n",
    "\n",
    "The quantity\n",
    "\n",
    "$$ \n",
    "\\Delta E = \\frac{1}{{N_{step}}} \\sum_{i=1}^{N_{step}}|\\frac{E_i - E_0}{E_0}|\n",
    "$$\n",
    "\n",
    "where $\\ E_0$ is the initial total energy and $E_i$ that for the $i^{th}$ time step, can provide a measure of energy conservation in a molecular dynamics trajectory.\\\n",
    "For a 1-dimensional harmonic oscillator, comparing molecular dynamic runs of equal total time, compute $\\Delta E$ as a function of the timestep $\\delta t$ for the velocity-Verlet integrator. \\\n",
    "Show your results on a log-log plot and comment on the scaling you observe. "
   ]
  },
  {
   "cell_type": "markdown",
   "id": "587c0b9f",
   "metadata": {},
   "source": []
  },
  {
   "cell_type": "markdown",
   "id": "4fdccd4e",
   "metadata": {},
   "source": [
    "### *Question 2:*\n",
    "\n",
    "Consider a system for which the energy is a function of only one variable (x) and is given by: \n",
    "\n",
    "$$ \n",
    "\\exp{[- \\beta E(x)]} =\n",
    "\\begin{cases}\n",
    "1, & \\text{if } 0 \\leq x < 1 \\\\\n",
    "0, & \\text{if } x < 0 \\text{ or } x \\geq 1\n",
    "\\end{cases}\n",
    "$$\n",
    "\n",
    "We wish to use Monte Carlo to simulate this system, and consider two algorithms that differ in the types of moves used. \\\n",
    "(a) Add a random displacement between [$- \\delta$,$ \\delta$] \\\n",
    "(b) Generate a random number $\\phi$ between [1, 1+ $\\delta$]. With probability of 0.5 invert the value of $\\phi$. Scale x by $\\phi$\n",
    "\n",
    "By considering the generating probability distributions for the two move types, derive the correct acceptance criteria for both schemes. "
   ]
  },
  {
   "cell_type": "markdown",
   "id": "addad4ea",
   "metadata": {},
   "source": []
  },
  {
   "cell_type": "markdown",
   "id": "dd64d154",
   "metadata": {},
   "source": [
    "### *Question 5:*\n",
    "\n",
    "Write a Monte Carlo programme to simulate the 2D Ising Model on a square lattice with nearest-neighbour ferromagnetic interactions. Use single spin flips as the basic Monte Carlo move. \\\n",
    "Compute the temperature dependence of the magnitude of the magentisation, heat capacity and magnetic susceptibility. \\\n",
    "Explore the dependence of the results on the system size and comment on the trends. \\\n",
    "Estimate the transition temperature at zero field. "
   ]
  },
  {
   "cell_type": "markdown",
   "id": "cee615e0",
   "metadata": {},
   "source": []
  }
 ],
 "metadata": {
  "language_info": {
   "name": "python"
  }
 },
 "nbformat": 4,
 "nbformat_minor": 5
}
