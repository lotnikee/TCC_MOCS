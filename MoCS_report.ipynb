{
 "cells": [
  {
   "cell_type": "markdown",
   "id": "30435335",
   "metadata": {},
   "source": [
    "# **Methods of Computer Simulation - Project Report**\n",
    "\n",
    "### *April 2025*\n",
    "\n",
    "#### *Candidate Number: 1090111*"
   ]
  },
  {
   "cell_type": "markdown",
   "id": "dd5af689",
   "metadata": {},
   "source": [
    "### **Question 1**\n",
    "\n",
    "**The quantity**\n",
    "\n",
    "$$ \n",
    "\\Delta E = \\frac{1}{N_{step}} \\sum_{i=1}^{N_{step}} |\\frac{E_i - E_0}{E_0}|\n",
    "$$\n",
    "\n",
    "**- where $E_0$ is the initial total energy and $E_i$ that for the $i^th$ time step - can provide a measure of energy conservation in a Molecular Dynamics trajectory.**\\\n",
    "**For a 1-Dimensional Harmonic Oscillator, comparing moleculary dynamic runs of equal time, compute $\\Delta E$ as a function of the timestep $\\delta t$ for the Velocity-Verlet integrator.**\\\n",
    "**Show your results on a log-log plot and comment on the scaling you observe.**"
   ]
  },
  {
   "cell_type": "markdown",
   "id": "7a7306a5",
   "metadata": {},
   "source": [
    "The Velocity-Verlet Algorithm applied to a Moleclar Dynamics simulation is characterised by the following steps:\n",
    "1) Give atom(s) inital positions \n",
    "2) Compute the forces acting on the atom(s) and choose a $\\delta t$: \n",
    "$$\n",
    "F = ma = -kx \\\\\n",
    "a = \\frac{F}{m} = \\frac{-kx}{m}\n",
    "$$\n",
    "3) Move atom(s) according to the Velocity-Verlet algorithm:\n",
    "$$\n",
    "x_{i+1} = x_i + v_i\\delta t + \\frac{1}{2}a_i\\delta t^2\n",
    "$$\n",
    "4) Move time forward by $t + \\delta t$\n",
    "5) Repeat over a chosen time period\n",
    "\n",
    "For this specific simulation, the choice was made to run the simulation over five time periods, each time period being 2π. This is to reflect the fact that the harmonic oscillator is a sinusoidal function and therefore choosing a more true-to-nature time period will make the simulation more accurate. \n",
    "The individual timesteps ($\\delta t$) were equispaced on a logarithmic scale from $10^{-3}$ to $10^0$. \n",
    "The choice was also made to work in atomic units so the simulation could be simplied as much as possible. \n",
    "\n",
    "Please note that all the code for this simulation can be found in the file *CW_Q1_a.py* in the *CW_Q1* folder. \n",
    "\n"
   ]
  },
  {
   "cell_type": "markdown",
   "id": "addad4ea",
   "metadata": {},
   "source": [
    "![Energy Plot](Energy.png)"
   ]
  },
  {
   "cell_type": "markdown",
   "id": "dd64d154",
   "metadata": {},
   "source": [
    "### *Question 5:*\n",
    "\n",
    "Write a Monte Carlo programme to simulate the 2D Ising Model on a square lattice with nearest-neighbour ferromagnetic interactions. Use single spin flips as the basic Monte Carlo move. \\\n",
    "Compute the temperature dependence of the magnitude of the magentisation, heat capacity and magnetic susceptibility. \\\n",
    "Explore the dependence of the results on the system size and comment on the trends. \\\n",
    "Estimate the transition temperature at zero field. "
   ]
  },
  {
   "cell_type": "markdown",
   "id": "cee615e0",
   "metadata": {},
   "source": []
  }
 ],
 "metadata": {
  "language_info": {
   "name": "python"
  }
 },
 "nbformat": 4,
 "nbformat_minor": 5
}
